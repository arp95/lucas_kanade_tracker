{
 "cells": [
  {
   "cell_type": "code",
   "execution_count": 19,
   "metadata": {},
   "outputs": [],
   "source": [
    "import cv2\n",
    "import numpy as np\n",
    "import matplotlib.pyplot as plt\n",
    "import scipy\n",
    "import glob\n",
    "%matplotlib inline"
   ]
  },
  {
   "cell_type": "code",
   "execution_count": 16,
   "metadata": {},
   "outputs": [],
   "source": [
    "# Create and test the video sequence for the Car4 dataset\n",
    "\n",
    "vid_seq = []\n",
    "\n",
    "# Iterate through all the images with .jpg extension\n",
    "for file in glob.glob('C:\\\\Users\\\\shant\\\\lucas_kanade_tracker\\\\data\\\\Car4\\\\img\\\\*.jpg'):\n",
    "    \n",
    "    #Read the images sequentially and append them in the vid_seq list\n",
    "    img = cv2.imread(file)\n",
    "    height, width, layers = img.shape\n",
    "    size = (width,height)\n",
    "    vid_seq.append(img)\n",
    "\n",
    "fourcc = cv2.VideoWriter_fourcc(*'XVID')\n",
    "out = cv2.VideoWriter('Car.avi',fourcc,5.0,size)\n",
    "\n",
    "for i in range(len(vid_seq)):\n",
    "    out.write(vid_seq[i])\n",
    "out.release()"
   ]
  },
  {
   "cell_type": "code",
   "execution_count": 17,
   "metadata": {},
   "outputs": [],
   "source": [
    "# Create and test the video sequence for the Bolt dataset\n",
    "\n",
    "vid_seq = []\n",
    "\n",
    "# Iterate through all the images with .jpg extension\n",
    "for file in glob.glob('C:\\\\Users\\\\shant\\\\lucas_kanade_tracker\\\\data\\\\Bolt2\\\\img\\\\*.jpg'):\n",
    "    \n",
    "    # Read the images sequentially and append them in the vid_seq list\n",
    "    img = cv2.imread(file)\n",
    "    height, width, layers = img.shape\n",
    "    size = (width,height)\n",
    "    vid_seq.append(img)\n",
    "\n",
    "fourcc = cv2.VideoWriter_fourcc(*'XVID')\n",
    "out = cv2.VideoWriter('Bolt.avi',fourcc,5.0,size)\n",
    "\n",
    "for i in range(len(vid_seq)):\n",
    "    out.write(vid_seq[i])\n",
    "out.release()"
   ]
  },
  {
   "cell_type": "code",
   "execution_count": 18,
   "metadata": {},
   "outputs": [],
   "source": [
    "# Create and test the video sequence for the BabyDragon dataset\n",
    "\n",
    "vid_seq = []\n",
    "\n",
    "# Iterate through all the images with .jpg extension\n",
    "for file in glob.glob('C:\\\\Users\\\\shant\\\\lucas_kanade_tracker\\\\data\\\\DragonBaby\\\\img\\\\*.jpg'):\n",
    "    \n",
    "    # Read the images sequentially and append them in the vid_seq list\n",
    "    img = cv2.imread(file)\n",
    "    height, width, layers = img.shape\n",
    "    size = (width,height)\n",
    "    vid_seq.append(img)\n",
    "\n",
    "fourcc = cv2.VideoWriter_fourcc(*'XVID')\n",
    "out = cv2.VideoWriter('DragonBaby.avi',fourcc,5.0,size)\n",
    "\n",
    "for i in range(len(vid_seq)):\n",
    "    out.write(vid_seq[i])\n",
    "out.release()"
   ]
  },
  {
   "cell_type": "markdown",
   "metadata": {},
   "source": [
    "## Implementation of the Lucas Kanade metod for Affine Warp\n",
    "\n",
    "Warp the image $I$ to obtain $I(W[x,y];P)$\n",
    "\n",
    "Compute the error image $T(x)-I(W[x,y];P)$\n",
    "\n",
    "Warp the Gradient ${\\nabla{I}}$ with $(W[x,y];P)$\n",
    "\n",
    "Evaluate $\\frac{\\partial W}{\\partial P}$ at $([x,y];P)$\n",
    "\n",
    "Compute Steepest descent images ${\\nabla{I}}\\frac{\\partial W}{\\partial P}$\n",
    "\n",
    "Compute the Hessian Matrix $\\sum{({\\nabla{I}}\\frac{\\partial W}{\\partial P})}^{T}{{\\nabla{I}}\\frac{\\partial W}{\\partial P}}$\n",
    "\n",
    "Compute $\\sum{({\\nabla{I}}\\frac{\\partial W}{\\partial P})}{(T(x)-I(W[x,y];P))}$\n",
    "\n",
    "Compute ${\\Delta P}$\n",
    "\n",
    "$P{\\leftarrow}P+{\\Delta P}$\n",
    "\n",
    "Keep Iterating till the magnitude of ${\\Delta P}$ is negligible\n",
    "\n",
    "And also ${\\Delta P} = {{A}^{T}{A}}^{-1}{A^{T}}{b}$\n",
    "\n",
    "Here ${{A}^{T}{A}}$ is the Hessian Matrix that has been computed above and $A$ is the steepest descent image and $b$ is basicallty the error image that has been computed in step 2"
   ]
  },
  {
   "cell_type": "code",
   "execution_count": null,
   "metadata": {},
   "outputs": [],
   "source": [
    "# Lucas=-Kanade tracker implementation\n",
    "def LeastSquareSolver():\n",
    "    \n",
    "def affineLKtracker(img, tmp, rect, pprev):\n",
    "    \n",
    "    \"\"\"\n",
    "    Inputs:\n",
    "    \n",
    "    img: The input gray scale image\n",
    "    tmp: The template image\n",
    "    rect: The bounding box that marks the template region\n",
    "    pprev: Parmeters of the template region for Affine Warping\n",
    "    \n",
    "    \"\"\"\n",
    "    \n",
    "    "
   ]
  }
 ],
 "metadata": {
  "kernelspec": {
   "display_name": "Python 3",
   "language": "python",
   "name": "python3"
  },
  "language_info": {
   "codemirror_mode": {
    "name": "ipython",
    "version": 3
   },
   "file_extension": ".py",
   "mimetype": "text/x-python",
   "name": "python",
   "nbconvert_exporter": "python",
   "pygments_lexer": "ipython3",
   "version": "3.6.10"
  }
 },
 "nbformat": 4,
 "nbformat_minor": 4
}
