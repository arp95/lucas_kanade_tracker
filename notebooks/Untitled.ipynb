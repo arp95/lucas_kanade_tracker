{
 "cells": [
  {
   "cell_type": "code",
   "execution_count": 1,
   "metadata": {},
   "outputs": [],
   "source": [
    "import numpy as np\n",
    "from matplotlib import pyplot as plt\n",
    "import cv2\n",
    "from roipoly import roipoly\n",
    "import pylab as pl"
   ]
  },
  {
   "cell_type": "code",
   "execution_count": 2,
   "metadata": {},
   "outputs": [
    {
     "ename": "NameError",
     "evalue": "name 'pl' is not defined",
     "output_type": "error",
     "traceback": [
      "\u001b[0;31m---------------------------------------------------------------------------\u001b[0m",
      "\u001b[0;31mNameError\u001b[0m                                 Traceback (most recent call last)",
      "\u001b[0;32m<ipython-input-2-45ef28c53253>\u001b[0m in \u001b[0;36m<module>\u001b[0;34m\u001b[0m\n\u001b[1;32m     12\u001b[0m         \u001b[0;31m# get current video frame\u001b[0m\u001b[0;34m\u001b[0m\u001b[0;34m\u001b[0m\u001b[0;34m\u001b[0m\u001b[0m\n\u001b[1;32m     13\u001b[0m         \u001b[0;31m# show the image\u001b[0m\u001b[0;34m\u001b[0m\u001b[0;34m\u001b[0m\u001b[0;34m\u001b[0m\u001b[0m\n\u001b[0;32m---> 14\u001b[0;31m         \u001b[0mpl\u001b[0m\u001b[0;34m.\u001b[0m\u001b[0mimshow\u001b[0m\u001b[0;34m(\u001b[0m\u001b[0mframe\u001b[0m\u001b[0;34m,\u001b[0m \u001b[0minterpolation\u001b[0m\u001b[0;34m=\u001b[0m\u001b[0;34m'nearest'\u001b[0m\u001b[0;34m,\u001b[0m \u001b[0mcmap\u001b[0m\u001b[0;34m=\u001b[0m\u001b[0;34m\"Greys\"\u001b[0m\u001b[0;34m)\u001b[0m\u001b[0;34m\u001b[0m\u001b[0;34m\u001b[0m\u001b[0m\n\u001b[0m\u001b[1;32m     15\u001b[0m         \u001b[0mpl\u001b[0m\u001b[0;34m.\u001b[0m\u001b[0mcolorbar\u001b[0m\u001b[0;34m(\u001b[0m\u001b[0;34m)\u001b[0m\u001b[0;34m\u001b[0m\u001b[0;34m\u001b[0m\u001b[0m\n\u001b[1;32m     16\u001b[0m         \u001b[0mpl\u001b[0m\u001b[0;34m.\u001b[0m\u001b[0mtitle\u001b[0m\u001b[0;34m(\u001b[0m\u001b[0;34m\"left click: line segment         right click: close region\"\u001b[0m\u001b[0;34m)\u001b[0m\u001b[0;34m\u001b[0m\u001b[0;34m\u001b[0m\u001b[0m\n",
      "\u001b[0;31mNameError\u001b[0m: name 'pl' is not defined"
     ]
    }
   ],
   "source": [
    "# set data path\n",
    "path_video = \"/home/arpitdec5/Desktop/color_segmentation_using_gmm_and_em/data/detectbuoy.avi\"\n",
    "\n",
    "# define constants\n",
    "cap = cv2.VideoCapture(path_video)\n",
    "\n",
    "# read video\n",
    "while(cap.isOpened()):\n",
    "    ret, frame = cap.read()\n",
    "    \n",
    "    if(ret):\n",
    "        # get current video frame\n",
    "        # show the image\n",
    "        pl.imshow(frame, interpolation='nearest', cmap=\"Greys\")\n",
    "        pl.colorbar()\n",
    "        pl.title(\"left click: line segment         right click: close region\")\n",
    "        \n",
    "        ROI1 = roipoly(roicolor='r')\n",
    "        \n",
    "        # show the image with the first ROI\n",
    "        pl.imshow(frame, interpolation='nearest', cmap=\"Greys\")\n",
    "        pl.colorbar()\n",
    "        ROI1.displayROI()\n",
    "        pl.title('draw second ROI')\n",
    "        break\n",
    "    else:\n",
    "        break\n",
    "cap.release()\n",
    "cv2.destroyAllWindows()"
   ]
  },
  {
   "cell_type": "code",
   "execution_count": 25,
   "metadata": {},
   "outputs": [
    {
     "name": "stderr",
     "output_type": "stream",
     "text": [
      "/usr/lib/python2.7/dist-packages/scipy/stats/morestats.py:16: DeprecationWarning: Importing from numpy.testing.decorators is deprecated since numpy 1.15.0, import from numpy.testing instead.\n",
      "  from numpy.testing.decorators import setastest\n"
     ]
    }
   ],
   "source": [
    "import glob\n",
    "import cv2\n",
    "import numpy as np\n",
    "from matplotlib import pyplot as plt\n",
    "from scipy.stats import multivariate_normal as mvn"
   ]
  },
  {
   "cell_type": "code",
   "execution_count": 47,
   "metadata": {},
   "outputs": [
    {
     "name": "stdout",
     "output_type": "stream",
     "text": [
      "['/home/arpitdec5/Desktop/color_segmentation_using_gmm_and_em/data/buoy2/test/buoy65.png', '/home/arpitdec5/Desktop/color_segmentation_using_gmm_and_em/data/buoy2/test/buoy99.png', '/home/arpitdec5/Desktop/color_segmentation_using_gmm_and_em/data/buoy2/test/buoy64.png', '/home/arpitdec5/Desktop/color_segmentation_using_gmm_and_em/data/buoy2/test/buoy113.png', '/home/arpitdec5/Desktop/color_segmentation_using_gmm_and_em/data/buoy2/test/buoy103.png', '/home/arpitdec5/Desktop/color_segmentation_using_gmm_and_em/data/buoy2/test/buoy139.png', '/home/arpitdec5/Desktop/color_segmentation_using_gmm_and_em/data/buoy2/test/buoy39.png', '/home/arpitdec5/Desktop/color_segmentation_using_gmm_and_em/data/buoy2/test/buoy101.png', '/home/arpitdec5/Desktop/color_segmentation_using_gmm_and_em/data/buoy2/test/buoy67.png', '/home/arpitdec5/Desktop/color_segmentation_using_gmm_and_em/data/buoy2/test/buoy115.png', '/home/arpitdec5/Desktop/color_segmentation_using_gmm_and_em/data/buoy2/test/buoy38.png', '/home/arpitdec5/Desktop/color_segmentation_using_gmm_and_em/data/buoy2/test/buoy88.png', '/home/arpitdec5/Desktop/color_segmentation_using_gmm_and_em/data/buoy2/test/buoy135.png', '/home/arpitdec5/Desktop/color_segmentation_using_gmm_and_em/data/buoy2/test/buoy90.png', '/home/arpitdec5/Desktop/color_segmentation_using_gmm_and_em/data/buoy2/test/buoy41.png', '/home/arpitdec5/Desktop/color_segmentation_using_gmm_and_em/data/buoy2/test/buoy70.png', '/home/arpitdec5/Desktop/color_segmentation_using_gmm_and_em/data/buoy2/test/buoy87.png', '/home/arpitdec5/Desktop/color_segmentation_using_gmm_and_em/data/buoy2/test/buoy118.png', '/home/arpitdec5/Desktop/color_segmentation_using_gmm_and_em/data/buoy2/test/buoy105.png', '/home/arpitdec5/Desktop/color_segmentation_using_gmm_and_em/data/buoy2/test/buoy127.png', '/home/arpitdec5/Desktop/color_segmentation_using_gmm_and_em/data/buoy2/test/buoy100.png', '/home/arpitdec5/Desktop/color_segmentation_using_gmm_and_em/data/buoy2/test/buoy81.png', '/home/arpitdec5/Desktop/color_segmentation_using_gmm_and_em/data/buoy2/test/buoy111.png', '/home/arpitdec5/Desktop/color_segmentation_using_gmm_and_em/data/buoy2/test/buoy141.png', '/home/arpitdec5/Desktop/color_segmentation_using_gmm_and_em/data/buoy2/test/buoy80.png', '/home/arpitdec5/Desktop/color_segmentation_using_gmm_and_em/data/buoy2/test/buoy136.png', '/home/arpitdec5/Desktop/color_segmentation_using_gmm_and_em/data/buoy2/test/buoy140.png', '/home/arpitdec5/Desktop/color_segmentation_using_gmm_and_em/data/buoy2/test/buoy79.png', '/home/arpitdec5/Desktop/color_segmentation_using_gmm_and_em/data/buoy2/test/buoy37.png', '/home/arpitdec5/Desktop/color_segmentation_using_gmm_and_em/data/buoy2/test/buoy94.png', '/home/arpitdec5/Desktop/color_segmentation_using_gmm_and_em/data/buoy2/test/buoy106.png', '/home/arpitdec5/Desktop/color_segmentation_using_gmm_and_em/data/buoy2/test/buoy93.png', '/home/arpitdec5/Desktop/color_segmentation_using_gmm_and_em/data/buoy2/test/buoy78.png', '/home/arpitdec5/Desktop/color_segmentation_using_gmm_and_em/data/buoy2/test/buoy89.png', '/home/arpitdec5/Desktop/color_segmentation_using_gmm_and_em/data/buoy2/test/buoy66.png', '/home/arpitdec5/Desktop/color_segmentation_using_gmm_and_em/data/buoy2/test/buoy126.png', '/home/arpitdec5/Desktop/color_segmentation_using_gmm_and_em/data/buoy2/test/buoy124.png', '/home/arpitdec5/Desktop/color_segmentation_using_gmm_and_em/data/buoy2/test/buoy128.png', '/home/arpitdec5/Desktop/color_segmentation_using_gmm_and_em/data/buoy2/test/buoy123.png', '/home/arpitdec5/Desktop/color_segmentation_using_gmm_and_em/data/buoy2/test/buoy125.png', '/home/arpitdec5/Desktop/color_segmentation_using_gmm_and_em/data/buoy2/test/buoy68.png', '/home/arpitdec5/Desktop/color_segmentation_using_gmm_and_em/data/buoy2/test/buoy117.png', '/home/arpitdec5/Desktop/color_segmentation_using_gmm_and_em/data/buoy2/test/buoy130.png', '/home/arpitdec5/Desktop/color_segmentation_using_gmm_and_em/data/buoy2/test/buoy92.png', '/home/arpitdec5/Desktop/color_segmentation_using_gmm_and_em/data/buoy2/test/buoy104.png', '/home/arpitdec5/Desktop/color_segmentation_using_gmm_and_em/data/buoy2/test/buoy69.png', '/home/arpitdec5/Desktop/color_segmentation_using_gmm_and_em/data/buoy2/test/buoy75.png', '/home/arpitdec5/Desktop/color_segmentation_using_gmm_and_em/data/buoy2/test/buoy129.png', '/home/arpitdec5/Desktop/color_segmentation_using_gmm_and_em/data/buoy2/test/buoy112.png', '/home/arpitdec5/Desktop/color_segmentation_using_gmm_and_em/data/buoy2/test/buoy138.png']\n"
     ]
    }
   ],
   "source": [
    "files = glob.glob(\"/home/arpitdec5/Desktop/color_segmentation_using_gmm_and_em/data/buoy2/test/*\")\n",
    "print(files)"
   ]
  },
  {
   "cell_type": "code",
   "execution_count": 43,
   "metadata": {},
   "outputs": [],
   "source": [
    "def plot_hist(image, value1, value2):\n",
    "    # loop over the image channels\n",
    "    chans = cv2.split(image)\n",
    "    chan = chans[1]\n",
    "    colors = \"g\"\n",
    "    features = []\n",
    "    hist = cv2.calcHist([chan], [0], None, [256], [0, 256])\n",
    "    #hist = hist / hist.sum()\n",
    "    features.extend(hist)\n",
    "    plt.plot(hist, color = colors)\n",
    "    #plt.plot(value1, color = \"b\")\n",
    "    plt.xlim([0, 256])\n",
    "    plt.ylim([0, 100])\n",
    "    \n",
    "    \"\"\"\n",
    "    for (chan, color) in zip(chans, colors):\n",
    "        hist = cv2.calcHist([chan], [], None, [256], [0, 256])\n",
    "        hist = hist / hist.sum()\n",
    "        features.extend(hist)\n",
    "        plt.plot(hist, color = color)\n",
    "        plt.xlim([0, 256])\n",
    "    \"\"\""
   ]
  },
  {
   "cell_type": "code",
   "execution_count": 44,
   "metadata": {},
   "outputs": [
    {
     "data": {
      "image/png": "[encoded data removed]",
      "text/plain": [
       "<Figure size 432x288 with 1 Axes>"
      ]
     },
     "metadata": {
      "needs_background": "light"
     },
     "output_type": "display_data"
    }
   ],
   "source": [
    "count = 0\n",
    "for file in files:\n",
    "    image = cv2.imread(files[12])\n",
    "    plot_hist(image, value1, value2)\n",
    "    count = count + 1\n",
    "    \n",
    "    if(count > 0):\n",
    "        break"
   ]
  },
  {
   "cell_type": "code",
   "execution_count": null,
   "metadata": {},
   "outputs": [],
   "source": [
    "# initialise step of em algorithm\n",
    "def initialise(n, d, k):\n",
    "    weights_gaussian = np.zeros(k)\n",
    "    mean_gaussian = np.zeros(k, d)\n",
    "    covariance_matrix_gaussian = np.zeros(k, d, d)\n",
    "    probability_values = np.zeros(n, k)\n",
    "    \n",
    "    # randomly assign probability values\n",
    "    for index in range(0, n):\n",
    "        random_index = np.random.randint(0, k)\n",
    "        probability_values[index][random_index] = 1"
   ]
  },
  {
   "cell_type": "code",
   "execution_count": 28,
   "metadata": {},
   "outputs": [],
   "source": [
    "# gaussian estimation for expectation step\n",
    "def gaussian_estimation(data_point, mean, covariance, dimension):\n",
    "    \"\"\"\n",
    "    Inputs:\n",
    "    data_point - data point of the gaussian, size (1 x d)\n",
    "    mean - mean of the gaussian, size (1 x d)\n",
    "    covariance - covariance of the gaussian, size (1 x d x d)\n",
    "    dimension - dimension of the gaussian\n",
    "    \n",
    "    Outputs:\n",
    "    value of the gaussian\n",
    "    \"\"\"\n",
    "    \n",
    "    determinant_covariance = np.linalg.det(covariance)\n",
    "    determinant_covariance_root = np.sqrt(determinant_covariance)\n",
    "    covariance_inverse = np.linalg.inv(covariance)\n",
    "    gaussian_pi_coeff = 1.0 / np.power((2 * np.pi), (dimension / 2))\n",
    "    data_mean_diff = (data_point - mean)\n",
    "    data_mean_diff_transpose = data_mean_diff.T     \n",
    "    return (gaussian_pi_coeff) * (determinant_covariance_root) * np.exp(-0.5 * np.matmul(np.matmul(data_mean_diff, covariance_inverse), data_mean_diff_transpose))"
   ]
  },
  {
   "cell_type": "code",
   "execution_count": 48,
   "metadata": {},
   "outputs": [],
   "source": [
    "weights_gaussian = np.array([0.10965005, 0.89034995])\n",
    "mean_gaussian = np.array([[213.99313937], [248.81861517]])\n",
    "covariance_gaussian = np.array([[[834.021028]], [[ 32.14004098]]])"
   ]
  },
  {
   "cell_type": "code",
   "execution_count": 58,
   "metadata": {},
   "outputs": [],
   "source": [
    "weights_gaussian = np.array([0.47356512, 0.50977045, 0.01666443])\n",
    "mean_gaussian = np.array([[234.56041269], [234.75186891], [200.17510761]])\n",
    "covariance_gaussian = np.array([[[ 38.79795013]], [[ 38.66358772]], [[663.63058132]]])"
   ]
  },
  {
   "cell_type": "code",
   "execution_count": 69,
   "metadata": {},
   "outputs": [],
   "source": [
    "value1 = []\n",
    "value2 = []\n",
    "value3 = []\n",
    "d = []\n",
    "for value in range(0, 256):\n",
    "    if(value % 2 == 0):\n",
    "        d.append(1)\n",
    "    else:\n",
    "        d.append(0)\n",
    "        \n",
    "    for dimension in range(0, 3):\n",
    "        value = gaussian_estimation(value, mean_gaussian[dimension], covariance_gaussian[dimension], 1) * weights_gaussian[dimension]\n",
    "        if(dimension == 0):\n",
    "            value1.append(value)\n",
    "        elif(dimension == 1):\n",
    "            value2.append(value)\n",
    "        else:\n",
    "            value3.append(value)"
   ]
  },
  {
   "cell_type": "code",
   "execution_count": 71,
   "metadata": {},
   "outputs": [
    {
     "data": {
      "text/plain": [
       "Text(0.5,1,'Fitted Gaussians(k = 2, d = 1) for Orange Buoy')"
      ]
     },
     "execution_count": 71,
     "metadata": {},
     "output_type": "execute_result"
    },
    {
     "data": {
      "image/png": "[encoded data removed]",
      "text/plain": [
       "<Figure size 432x288 with 1 Axes>"
      ]
     },
     "metadata": {
      "needs_background": "light"
     },
     "output_type": "display_data"
    }
   ],
   "source": [
    "plt.plot(value1)\n",
    "#plt.plot(value1)\n",
    "#plt.plot(value3)\n",
    "plt.xlim([0, 256])\n",
    "plt.title(\"Fitted Gaussians(k = 2, d = 1) for Orange Buoy\")"
   ]
  },
  {
   "cell_type": "code",
   "execution_count": null,
   "metadata": {},
   "outputs": [],
   "source": []
  }
 ],
 "metadata": {
  "kernelspec": {
   "display_name": "Python 3",
   "language": "python",
   "name": "python3"
  },
  "language_info": {
   "codemirror_mode": {
    "name": "ipython",
    "version": 2
   },
   "file_extension": ".py",
   "mimetype": "text/x-python",
   "name": "python",
   "nbconvert_exporter": "python",
   "pygments_lexer": "ipython2",
   "version": "2.7.12"
  }
 },
 "nbformat": 4,
 "nbformat_minor": 2
}
