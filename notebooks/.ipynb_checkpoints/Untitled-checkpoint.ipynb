{
 "cells": [
  {
   "cell_type": "code",
   "execution_count": 1,
   "metadata": {},
   "outputs": [],
   "source": [
    "import numpy as np\n",
    "from matplotlib import pyplot as plt\n",
    "import cv2\n",
    "from roipoly import roipoly\n",
    "import pylab as pl"
   ]
  },
  {
   "cell_type": "code",
   "execution_count": 2,
   "metadata": {},
   "outputs": [
    {
     "ename": "NameError",
     "evalue": "name 'pl' is not defined",
     "output_type": "error",
     "traceback": [
      "\u001b[0;31m---------------------------------------------------------------------------\u001b[0m",
      "\u001b[0;31mNameError\u001b[0m                                 Traceback (most recent call last)",
      "\u001b[0;32m<ipython-input-2-45ef28c53253>\u001b[0m in \u001b[0;36m<module>\u001b[0;34m\u001b[0m\n\u001b[1;32m     12\u001b[0m         \u001b[0;31m# get current video frame\u001b[0m\u001b[0;34m\u001b[0m\u001b[0;34m\u001b[0m\u001b[0;34m\u001b[0m\u001b[0m\n\u001b[1;32m     13\u001b[0m         \u001b[0;31m# show the image\u001b[0m\u001b[0;34m\u001b[0m\u001b[0;34m\u001b[0m\u001b[0;34m\u001b[0m\u001b[0m\n\u001b[0;32m---> 14\u001b[0;31m         \u001b[0mpl\u001b[0m\u001b[0;34m.\u001b[0m\u001b[0mimshow\u001b[0m\u001b[0;34m(\u001b[0m\u001b[0mframe\u001b[0m\u001b[0;34m,\u001b[0m \u001b[0minterpolation\u001b[0m\u001b[0;34m=\u001b[0m\u001b[0;34m'nearest'\u001b[0m\u001b[0;34m,\u001b[0m \u001b[0mcmap\u001b[0m\u001b[0;34m=\u001b[0m\u001b[0;34m\"Greys\"\u001b[0m\u001b[0;34m)\u001b[0m\u001b[0;34m\u001b[0m\u001b[0;34m\u001b[0m\u001b[0m\n\u001b[0m\u001b[1;32m     15\u001b[0m         \u001b[0mpl\u001b[0m\u001b[0;34m.\u001b[0m\u001b[0mcolorbar\u001b[0m\u001b[0;34m(\u001b[0m\u001b[0;34m)\u001b[0m\u001b[0;34m\u001b[0m\u001b[0;34m\u001b[0m\u001b[0m\n\u001b[1;32m     16\u001b[0m         \u001b[0mpl\u001b[0m\u001b[0;34m.\u001b[0m\u001b[0mtitle\u001b[0m\u001b[0;34m(\u001b[0m\u001b[0;34m\"left click: line segment         right click: close region\"\u001b[0m\u001b[0;34m)\u001b[0m\u001b[0;34m\u001b[0m\u001b[0;34m\u001b[0m\u001b[0m\n",
      "\u001b[0;31mNameError\u001b[0m: name 'pl' is not defined"
     ]
    }
   ],
   "source": [
    "# set data path\n",
    "path_video = \"/home/arpitdec5/Desktop/color_segmentation_using_gmm_and_em/data/detectbuoy.avi\"\n",
    "\n",
    "# define constants\n",
    "cap = cv2.VideoCapture(path_video)\n",
    "\n",
    "# read video\n",
    "while(cap.isOpened()):\n",
    "    ret, frame = cap.read()\n",
    "    \n",
    "    if(ret):\n",
    "        # get current video frame\n",
    "        # show the image\n",
    "        pl.imshow(frame, interpolation='nearest', cmap=\"Greys\")\n",
    "        pl.colorbar()\n",
    "        pl.title(\"left click: line segment         right click: close region\")\n",
    "        \n",
    "        ROI1 = roipoly(roicolor='r')\n",
    "        \n",
    "        # show the image with the first ROI\n",
    "        pl.imshow(frame, interpolation='nearest', cmap=\"Greys\")\n",
    "        pl.colorbar()\n",
    "        ROI1.displayROI()\n",
    "        pl.title('draw second ROI')\n",
    "        break\n",
    "    else:\n",
    "        break\n",
    "cap.release()\n",
    "cv2.destroyAllWindows()"
   ]
  },
  {
   "cell_type": "code",
   "execution_count": 2,
   "metadata": {},
   "outputs": [],
   "source": [
    "import glob\n",
    "import cv2\n",
    "import numpy as np\n",
    "from matplotlib import pyplot as plt"
   ]
  },
  {
   "cell_type": "code",
   "execution_count": 3,
   "metadata": {},
   "outputs": [
    {
     "name": "stdout",
     "output_type": "stream",
     "text": [
      "['/home/arpitdec5/Desktop/color_segmentation_using_gmm_and_em/data/buoy3/test/buoy33.png', '/home/arpitdec5/Desktop/color_segmentation_using_gmm_and_em/data/buoy3/test/buoy39.png', '/home/arpitdec5/Desktop/color_segmentation_using_gmm_and_em/data/buoy3/test/buoy35.png', '/home/arpitdec5/Desktop/color_segmentation_using_gmm_and_em/data/buoy3/test/buoy40.png', '/home/arpitdec5/Desktop/color_segmentation_using_gmm_and_em/data/buoy3/test/buoy38.png', '/home/arpitdec5/Desktop/color_segmentation_using_gmm_and_em/data/buoy3/test/buoy1.png', '/home/arpitdec5/Desktop/color_segmentation_using_gmm_and_em/data/buoy3/test/buoy41.png', '/home/arpitdec5/Desktop/color_segmentation_using_gmm_and_em/data/buoy3/test/buoy36.png', '/home/arpitdec5/Desktop/color_segmentation_using_gmm_and_em/data/buoy3/test/buoy31.png', '/home/arpitdec5/Desktop/color_segmentation_using_gmm_and_em/data/buoy3/test/buoy37.png', '/home/arpitdec5/Desktop/color_segmentation_using_gmm_and_em/data/buoy3/test/buoy34.png', '/home/arpitdec5/Desktop/color_segmentation_using_gmm_and_em/data/buoy3/test/buoy0.png', '/home/arpitdec5/Desktop/color_segmentation_using_gmm_and_em/data/buoy3/test/buoy32.png', '/home/arpitdec5/Desktop/color_segmentation_using_gmm_and_em/data/buoy3/test/buoy2.png']\n"
     ]
    }
   ],
   "source": [
    "files = glob.glob(\"/home/arpitdec5/Desktop/color_segmentation_using_gmm_and_em/data/buoy3/test/*\")\n",
    "print(files)"
   ]
  },
  {
   "cell_type": "code",
   "execution_count": 8,
   "metadata": {},
   "outputs": [],
   "source": [
    "def plot_hist(image):\n",
    "    # loop over the image channels\n",
    "    chans = cv2.split(image)\n",
    "    chan = chans[2]\n",
    "    colors = (\"g\")\n",
    "    features = []\n",
    "    hist = cv2.calcHist([chan], [], None, [256], [0, 256])\n",
    "    hist = hist / hist.sum()\n",
    "    features.extend(hist)\n",
    "        plt.plot(hist, color = color)\n",
    "        plt.xlim([0, 256])\n",
    "    \"\"\"\n",
    "    for (chan, color) in zip(chans, colors):\n",
    "        hist = cv2.calcHist([chan], [], None, [256], [0, 256])\n",
    "        hist = hist / hist.sum()\n",
    "        features.extend(hist)\n",
    "        plt.plot(hist, color = color)\n",
    "        plt.xlim([0, 256])\n",
    "    \"\"\""
   ]
  },
  {
   "cell_type": "code",
   "execution_count": 9,
   "metadata": {},
   "outputs": [
    {
     "ename": "error",
     "evalue": "/tmp/binarydeb/ros-kinetic-opencv3-3.3.1/modules/imgproc/src/histogram.cpp:152: error: (-215) j < nimages in function histPrepareImages\n",
     "output_type": "error",
     "traceback": [
      "\u001b[0;31m---------------------------------------------------------------------------\u001b[0m",
      "\u001b[0;31merror\u001b[0m                                     Traceback (most recent call last)",
      "\u001b[0;32m<ipython-input-9-6097310fff0e>\u001b[0m in \u001b[0;36m<module>\u001b[0;34m()\u001b[0m\n\u001b[1;32m      2\u001b[0m \u001b[0;32mfor\u001b[0m \u001b[0mfile\u001b[0m \u001b[0;32min\u001b[0m \u001b[0mfiles\u001b[0m\u001b[0;34m:\u001b[0m\u001b[0;34m\u001b[0m\u001b[0m\n\u001b[1;32m      3\u001b[0m     \u001b[0mimage\u001b[0m \u001b[0;34m=\u001b[0m \u001b[0mcv2\u001b[0m\u001b[0;34m.\u001b[0m\u001b[0mimread\u001b[0m\u001b[0;34m(\u001b[0m\u001b[0mfiles\u001b[0m\u001b[0;34m[\u001b[0m\u001b[0;36m7\u001b[0m\u001b[0;34m]\u001b[0m\u001b[0;34m)\u001b[0m\u001b[0;34m\u001b[0m\u001b[0m\n\u001b[0;32m----> 4\u001b[0;31m     \u001b[0mplot_hist\u001b[0m\u001b[0;34m(\u001b[0m\u001b[0mimage\u001b[0m\u001b[0;34m)\u001b[0m\u001b[0;34m\u001b[0m\u001b[0m\n\u001b[0m\u001b[1;32m      5\u001b[0m     \u001b[0mcount\u001b[0m \u001b[0;34m=\u001b[0m \u001b[0mcount\u001b[0m \u001b[0;34m+\u001b[0m \u001b[0;36m1\u001b[0m\u001b[0;34m\u001b[0m\u001b[0m\n\u001b[1;32m      6\u001b[0m \u001b[0;34m\u001b[0m\u001b[0m\n",
      "\u001b[0;32m<ipython-input-8-a6ad11afd809>\u001b[0m in \u001b[0;36mplot_hist\u001b[0;34m(image)\u001b[0m\n\u001b[1;32m      5\u001b[0m     \u001b[0mfeatures\u001b[0m \u001b[0;34m=\u001b[0m \u001b[0;34m[\u001b[0m\u001b[0;34m]\u001b[0m\u001b[0;34m\u001b[0m\u001b[0m\n\u001b[1;32m      6\u001b[0m     \u001b[0;32mfor\u001b[0m \u001b[0;34m(\u001b[0m\u001b[0mchan\u001b[0m\u001b[0;34m,\u001b[0m \u001b[0mcolor\u001b[0m\u001b[0;34m)\u001b[0m \u001b[0;32min\u001b[0m \u001b[0mzip\u001b[0m\u001b[0;34m(\u001b[0m\u001b[0mchans\u001b[0m\u001b[0;34m,\u001b[0m \u001b[0mcolors\u001b[0m\u001b[0;34m)\u001b[0m\u001b[0;34m:\u001b[0m\u001b[0;34m\u001b[0m\u001b[0m\n\u001b[0;32m----> 7\u001b[0;31m         \u001b[0mhist\u001b[0m \u001b[0;34m=\u001b[0m \u001b[0mcv2\u001b[0m\u001b[0;34m.\u001b[0m\u001b[0mcalcHist\u001b[0m\u001b[0;34m(\u001b[0m\u001b[0;34m[\u001b[0m\u001b[0mchan\u001b[0m\u001b[0;34m]\u001b[0m\u001b[0;34m,\u001b[0m \u001b[0;34m[\u001b[0m\u001b[0;36m2\u001b[0m\u001b[0;34m]\u001b[0m\u001b[0;34m,\u001b[0m \u001b[0mNone\u001b[0m\u001b[0;34m,\u001b[0m \u001b[0;34m[\u001b[0m\u001b[0;36m256\u001b[0m\u001b[0;34m]\u001b[0m\u001b[0;34m,\u001b[0m \u001b[0;34m[\u001b[0m\u001b[0;36m0\u001b[0m\u001b[0;34m,\u001b[0m \u001b[0;36m256\u001b[0m\u001b[0;34m]\u001b[0m\u001b[0;34m)\u001b[0m\u001b[0;34m\u001b[0m\u001b[0m\n\u001b[0m\u001b[1;32m      8\u001b[0m         \u001b[0mhist\u001b[0m \u001b[0;34m=\u001b[0m \u001b[0mhist\u001b[0m \u001b[0;34m/\u001b[0m \u001b[0mhist\u001b[0m\u001b[0;34m.\u001b[0m\u001b[0msum\u001b[0m\u001b[0;34m(\u001b[0m\u001b[0;34m)\u001b[0m\u001b[0;34m\u001b[0m\u001b[0m\n\u001b[1;32m      9\u001b[0m         \u001b[0mfeatures\u001b[0m\u001b[0;34m.\u001b[0m\u001b[0mextend\u001b[0m\u001b[0;34m(\u001b[0m\u001b[0mhist\u001b[0m\u001b[0;34m)\u001b[0m\u001b[0;34m\u001b[0m\u001b[0m\n",
      "\u001b[0;31merror\u001b[0m: /tmp/binarydeb/ros-kinetic-opencv3-3.3.1/modules/imgproc/src/histogram.cpp:152: error: (-215) j < nimages in function histPrepareImages\n"
     ]
    }
   ],
   "source": [
    "count = 0\n",
    "for file in files:\n",
    "    image = cv2.imread(files[7])\n",
    "    plot_hist(image)\n",
    "    count = count + 1\n",
    "    \n",
    "    if(count > 0):\n",
    "        break"
   ]
  },
  {
   "cell_type": "code",
   "execution_count": null,
   "metadata": {},
   "outputs": [],
   "source": [
    "# initialise step of em algorithm\n",
    "def initialise(n, d, k):\n",
    "    weights_gaussian = np.zeros(k)\n",
    "    mean_gaussian = np.zeros(k, d)\n",
    "    covariance_matrix_gaussian = np.zeros(k, d, d)\n",
    "    probability_values = np.zeros(n, k)\n",
    "    \n",
    "    # randomly assign probability values\n",
    "    for index in range(0, n):\n",
    "        random_index = np.random.randint(0, k)\n",
    "        probability_values[index][random_index] = 1"
   ]
  }
 ],
 "metadata": {
  "kernelspec": {
   "display_name": "Python 3",
   "language": "python",
   "name": "python3"
  },
  "language_info": {
   "codemirror_mode": {
    "name": "ipython",
    "version": 2
   },
   "file_extension": ".py",
   "mimetype": "text/x-python",
   "name": "python",
   "nbconvert_exporter": "python",
   "pygments_lexer": "ipython2",
   "version": "2.7.12"
  }
 },
 "nbformat": 4,
 "nbformat_minor": 2
}
